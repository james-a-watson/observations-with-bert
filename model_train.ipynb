{
 "cells": [
  {
   "cell_type": "markdown",
   "metadata": {},
   "source": [
    "# Background and Motivation\n",
    "\n",
    "On construction sites we have many hazards that pose Health and Safety threats to our workers or members of the public. \n",
    "\n",
    "To capture these hazards our site workers use an app to log when they see an issue, such as: \"Cables left laying around site\", \"Oil spill on pathway\" etc. Thus, we have a huge amount of useful Health and Safety data stored in our database.\n",
    "\n",
    "I have been working over the last couple of months to train a model to understand this data. The model has been successfully built and the business is pleased with the results. I am on a project to expand this work to an application.\n",
    "\n",
    "Over the course of this notebook I hope to explain how I built my model. I will be adding to this daily and explaining the choices I made at each stage in the process. The reason for this is to improve my ability to explain myself and to build up a portfolio brick-by-brick rather than working locally for months and pushing everything up at once."
   ]
  },
  {
   "cell_type": "markdown",
   "metadata": {},
   "source": [
    "# Part 1: Data Analysis"
   ]
  },
  {
   "cell_type": "code",
   "execution_count": null,
   "metadata": {},
   "outputs": [],
   "source": []
  }
 ],
 "metadata": {
  "kernelspec": {
   "display_name": "Python 3",
   "language": "python",
   "name": "python3"
  },
  "language_info": {
   "name": "python",
   "version": "3.9.1"
  },
  "orig_nbformat": 4
 },
 "nbformat": 4,
 "nbformat_minor": 2
}

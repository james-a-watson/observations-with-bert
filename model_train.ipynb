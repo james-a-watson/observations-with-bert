{
 "cells": [
  {
   "cell_type": "markdown",
   "metadata": {},
   "source": [
    "# Background and Motivation\n",
    "\n",
    "On construction sites we have many hazards that pose Health and Safety threats to our workers or members of the public. \n",
    "\n",
    "To capture these hazards our site workers use an app to log when they see an issue. Thus, we have a huge amount of useful Health and Safety data stored in our database.\n",
    "\n",
    "I have been working over the last couple of months to train a model to understand this data. The model has been successfully built and the business is pleased with the results. \n",
    "\n",
    "Over the course of this notebook I hope to explain how I built my model. I will be adding to this daily and explaining the choices I made at each stage in the process. The reason for this is to improve my ability to explain myself and to build up a portfolio brick-by-brick rather than working locally for months and pushing everything up at once."
   ]
  },
  {
   "cell_type": "markdown",
   "metadata": {},
   "source": [
    "# Part 1: Data Analysis"
   ]
  }
 ],
 "metadata": {
  "language_info": {
   "name": "python"
  },
  "orig_nbformat": 4
 },
 "nbformat": 4,
 "nbformat_minor": 2
}

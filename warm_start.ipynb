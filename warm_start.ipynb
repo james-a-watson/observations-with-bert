{
 "cells": [
  {
   "cell_type": "markdown",
   "metadata": {},
   "source": [
    "The purpose of this notebook is to take the initial model produced by model_train.ipynb and use the same functionality to train over more labelled records. \n",
    "\n",
    "You should be able to run this over and over again and see better and better results on the test dataset. "
   ]
  },
  {
   "cell_type": "code",
   "execution_count": null,
   "metadata": {},
   "outputs": [],
   "source": [
    "import pandas as pd\n",
    "import torch \n",
    "import numpy as np\n",
    "from data_helpers import feature_prep, split_sample\n",
    "from model import load_ckp, BERTClass, train_model"
   ]
  }
 ],
 "metadata": {
  "language_info": {
   "name": "python"
  },
  "orig_nbformat": 4
 },
 "nbformat": 4,
 "nbformat_minor": 2
}

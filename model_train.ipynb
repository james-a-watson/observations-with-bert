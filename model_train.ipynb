{
 "cells": [
  {
   "cell_type": "markdown",
   "metadata": {},
   "source": [
    "# Introduction\n",
    "\n",
    "I have been working over the last couple of months to train an LLM on health and safety data. After fine-tuning, the model has been deployed to production and is being exposed to a front-end application through an API. I unfortunaly have neglacted to document the process of research and development and this repo will serve as a retrospective peice on my work. I will share the code to train the model and insights I learned along the way. Unfortunatly since it is company IP I cannot share the data or model itself, only my process for developing it.\n",
    "\n",
    "\n",
    "# Background and Motivation\n",
    "\n",
    "On construction sites we have many hazards that pose Health and Safety threats to our workers or members of the public. To capture these hazards our site workers use an app to log when they see an issue, such as: \"Cables left laying on walkway\", \"Oil spill on pathway\" etc. Thus, we have a huge amount of useful Health and Safety data stored in our database.\n",
    "\n",
    "When entering an observation the user is given the option to enter a category which is used by the health and saftey team to triage and action the hazard, to decide which team to send it to, whether to notify someone immediately, etc. For example, \"Cables left laying on walkway\" would probably be given the category \"Slips/Trips\". \n",
    "\n",
    "Most of the time the appropriate category is set in the data but around 18% of the time the category empty and sometimes when it is set it isn't set to a correct value. This is where Machine Learning and LLMs can come in. With over 1 million "
   ]
  },
  {
   "cell_type": "markdown",
   "metadata": {},
   "source": [
    "# Part 1: Data Analysis"
   ]
  },
  {
   "cell_type": "code",
   "execution_count": null,
   "metadata": {},
   "outputs": [],
   "source": []
  }
 ],
 "metadata": {
  "kernelspec": {
   "display_name": "Python 3",
   "language": "python",
   "name": "python3"
  },
  "language_info": {
   "name": "python",
   "version": "3.9.1"
  },
  "orig_nbformat": 4
 },
 "nbformat": 4,
 "nbformat_minor": 2
}
